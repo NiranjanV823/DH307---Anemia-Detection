{
 "cells": [
  {
   "cell_type": "code",
   "execution_count": 1,
   "metadata": {},
   "outputs": [],
   "source": [
    "import numpy as np\n",
    "import pandas as pd\n",
    "import cv2\n",
    "import os\n",
    "import math"
   ]
  },
  {
   "cell_type": "code",
   "execution_count": 2,
   "metadata": {},
   "outputs": [],
   "source": [
    "eye_mask_folder = \"../Produced Images/Eye Masked\""
   ]
  },
  {
   "cell_type": "code",
   "execution_count": 3,
   "metadata": {},
   "outputs": [
    {
     "name": "stdout",
     "output_type": "stream",
     "text": [
      "Image Names: ['1710062483477.jpg', '1710062524242.jpg', '1710062617330.jpg', '1710063043894.jpg', '1710063172053.jpg', '1710063512010.jpg', '1710067687562.jpg', '1710067886551.jpg', '1710068440387.jpg', '1710068554866.jpg', '1710068975944.jpg', '1710069287190.jpg', '1710069549390.jpg', '1710069973175.jpg', '1710070192681.jpg', '1710070472314.jpg', '1710070755134.jpg', '1710071452062.jpg', '1710071755958.jpg', '1710072078629.jpg', '1710072405617.jpg', '1709617490220.jpg', '1709617782204.jpg', '1709618916134.jpg', '1709619661748.jpg', '1709620146694.jpg', '1709620595216.jpg', '1709621062603.jpg', '1709621461793.jpg', '1709621597176.jpg', '1709622533228.jpg', '1709622587454.jpg', '1709623125542.jpg', '1709623701628.jpg', '1709624212725.jpg', '1709624290874.jpg', '1709625264664.jpg', '1709625767525.jpg', '1709626383934.jpg', '1709626920925.jpg', '1709627337457.jpg', '1709627853782.jpg', '1709628184089.jpg', '1709628406462.jpg', '1709629128455.jpg', '1709630906630.jpg', '1709630909352.jpg', '1709634401216.jpg', '1709634858094.jpg', '1709635096689.jpg', '1709635487618.jpg', '1709635751418.jpg', '1709636198347.jpg', '1709636657666.jpg', '1709637079415.jpg', '1709637834740.jpg', '1709637853296.jpg', '1709638414657.jpg', '1709638681606.jpg', '1709638762739.jpg', '1709639773324.jpg', '1709640071223.jpg', '1709640103831.jpg', '1709640822554.jpg', '1709641063307.jpg', '1709641987602.jpg', '1709642420649.jpg', '1709642701745.jpg', '1709642929674.jpg', '1709643716953.jpg', '1709643778915.jpg', '1709644066122.jpg', '1709644355150.jpg', '1709700844379.jpg', '1709701082636.jpg', '1709701513633.jpg', '1709701924824.jpg', '1709702351253.jpg', '1709702387629.jpg', '1709702601649.jpg', '1709702933980.jpg', '1709703350525.jpg', '1709703440550.jpg', '1709703753790.jpg', '1709703817911.jpg', '1709625767070.jpg', '1709636451463.jpg', '1709643323574.jpg', '1709704104403.jpg', '1709709970921.jpg', '1709714716489.jpg', '1709723256153.jpg', '1709789649074.jpg', '1709793591996.jpg', '1709797290722.jpg', '1709801070971.jpg', '1709809702881.jpg', '1709876461016.jpg', '1709880958803.jpg', '1709885776309.jpg', '1709895095707.jpg', '1709968175667.jpg', '1709973314600.jpg', '1709977206296.jpg', '1709984908128.jpg', '1710050099659.jpg', '1710055434537.jpg', '1710061832400.jpg', '1709704516834.jpg', '1709704681372.jpg', '1709704989421.jpg', '1709705027210.jpg', '1709705275518.jpg', '1709706474921.jpg', '1709707373672.jpg', '1709707651859.jpg', '1709707900867.jpg', '1709708206010.jpg', '1709708285953.jpg', '1709708693765.jpg', '1709709085751.jpg', '1709709259763.jpg', '1709709442590.jpg', '1709709835508.jpg', '1709710126239.jpg', '1709710614773.jpg', '1709711165890.jpg', '1709711227620.jpg', '1709711294651.jpg', '1709711456454.jpg', '1709712138693.jpg', '1709712231613.jpg', '1709712668361.jpg', '1709712754717.jpg', '1709712955733.jpg', '1709713246578.jpg', '1709713709275.jpg', '1709713917225.jpg', '1709714097263.jpg', '1709714149295.jpg', '1709715028843.jpg', '1709715152144.jpg', '1709715158658.jpg', '1709715554132.jpg', '1709715935473.jpg', '1709720226503.jpg', '1709720371526.jpg', '1709720371586.jpg', '1709720781394.jpg', '1709721325478.jpg', '1709721487943.jpg', '1709721682441.jpg', '1709721759887.jpg', '1709722173091.jpg', '1709722295062.jpg', '1709722864724.jpg', '1709723311215.jpg', '1709723795352.jpg', '1709724090391.jpg', '1709724582307.jpg', '1709724896732.jpg', '1709725187979.jpg', '1709725587749.jpg', '1709725970233.jpg', '1709726027055.jpg', '1709726344579.jpg', '1709726505652.jpg', '1709726773680.jpg', '1709788542998.jpg', '1709788857606.jpg', '1709789179906.jpg', '1709789576412.jpg', '1709789672580.jpg', '1709790188067.jpg', '1709790424021.jpg', '1709790442782.jpg', '1709790686375.jpg', '1709790808197.jpg', '1709790989339.jpg', '1709791213084.jpg', '1709791569654.jpg', '1709791740029.jpg', '1709791811907.jpg', '1709792160177.jpg', '1709792279265.jpg', '1709792869244.jpg', '1709792906801.jpg', '1709793174218.jpg', '1709793597598.jpg', '1709793895139.jpg', '1709794234019.jpg', '1709794486042.jpg', '1709794555949.jpg', '1709794689231.jpg', '1709795090579.jpg', '1709795232997.jpg', '1709795418986.jpg', '1709795441057.jpg', '1709795753222.jpg', '1709796151230.jpg', '1709796430460.jpg', '1709796617422.jpg', '1709796724284.jpg', '1709797021337.jpg', '1709797676118.jpg', '1709797721348.jpg', '1709797926443.jpg', '1709798503603.jpg', '1709798714805.jpg', '1709798819106.jpg', '1709798882417.jpg', '1709799082552.jpg', '1709799541038.jpg', '1709799789148.jpg', '1709799893632.jpg', '1709799981476.jpg', '1709800069998.jpg', '1709800376399.jpg', '1709800733671.jpg', '1709800783595.jpg', '1709801109386.jpg', '1709801398797.jpg', '1709801588302.jpg', '1709801715764.jpg', '1709806152011.jpg', '1709806223164.jpg', '1709806681433.jpg', '1709806918462.jpg', '1709807307002.jpg', '1709808245991.jpg', '1709808448604.jpg', '1709808682571.jpg', '1709809232478.jpg', '1709809247432.jpg', '1709809247542.jpg', '1709809615742.jpg', '1709809921688.jpg', '1709810155552.jpg', '1709810641319.jpg', '1709810762407.jpg', '1709873580657.jpg', '1709873745232.jpg', '1709874072267.jpg', '1709874405956.jpg', '1709874669354.jpg', '1709874793079.jpg', '1709874986220.jpg', '1709875256185.jpg', '1709875644235.jpg', '1709875681428.jpg', '1709876021383.jpg', '1709876070273.jpg', '1709876699267.jpg', '1709876967453.jpg', '1709877129874.jpg', '1709877314410.jpg', '1709877626672.jpg', '1709877779920.jpg', '1709878237242.jpg', '1709878709386.jpg', '1709878802641.jpg', '1709879494259.jpg', '1709879547102.jpg', '1709879671944.jpg', '1709880018719.jpg', '1709880263138.jpg', '1709880362990.jpg', '1709880494391.jpg', '1709881161730.jpg', '1709881183964.jpg', '1709881884703.jpg', '1709881898161.jpg', '1709882205682.jpg', '1709882751781.jpg', '1709882791187.jpg', '1709883096369.jpg', '1709883505879.jpg', '1709883543818.jpg', '1709884034856.jpg', '1709884271026.jpg', '1709884483404.jpg', '1709885236981.jpg', '1709885384509.jpg', '1709885754910.jpg', '1709885965388.jpg', '1709886083067.jpg', '1709886364911.jpg', '1709886726790.jpg', '1709886921396.jpg', '1709886987451.jpg', '1709887308936.jpg', '1709887581367.jpg', '1709887979543.jpg', '1709892087370.jpg', '1709892091584.jpg', '1709892770918.jpg', '1709892778451.jpg', '1709894149617.jpg', '1709894410795.jpg', '1709895076839.jpg', '1709895764472.jpg', '1709895828777.jpg', '1709964363419.jpg', '1709964724278.jpg', '1709964941995.jpg', '1709965086597.jpg', '1709965309113.jpg', '1709965728812.jpg', '1709965939123.jpg', '1709966286578.jpg', '1709966323468.jpg', '1709966710042.jpg', '1709967123141.jpg', '1709967291627.jpg', '1709967619699.jpg', '1709967842838.jpg', '1709968419454.jpg', '1709968681326.jpg', '1709968993824.jpg', '1709969361635.jpg', '1709969657931.jpg', '1709969854352.jpg', '1709970267160.jpg', '1709970418864.jpg', '1709970896072.jpg', '1709971024969.jpg', '1709971446069.jpg', '1709971525130.jpg', '1709972048458.jpg', '1709972216309.jpg', '1709972740741.jpg', '1709972770063.jpg', '1709973325870.jpg', '1709973568143.jpg', '1709973737086.jpg', '1709974027217.jpg', '1709974131918.jpg', '1709974424897.jpg', '1709974483896.jpg', '1709974996470.jpg', '1709975292366.jpg', '1709975472792.jpg', '1709975709560.jpg', '1709976152523.jpg', '1709976267193.jpg', '1709976366895.jpg', '1709976624062.jpg', '1709976904121.jpg', '1709977337293.jpg', '1709980654965.jpg', '1709980776424.jpg', '1709981097863.jpg', '1709981218177.jpg', '1709981347714.jpg', '1709981686755.jpg', '1709982005533.jpg', '1709982473883.jpg', '1709982560073.jpg', '1709983262980.jpg', '1709983326476.jpg', '1709983832661.jpg', '1709983961613.jpg', '1709984108041.jpg', '1709984416598.jpg', '1709985195982.jpg', '1709985443735.jpg', '1709985657508.jpg', '1709986011505.jpg', '1709986283053.jpg', '1709986567889.jpg', '1709986845901.jpg', '1710047646916.jpg', '1710047845630.jpg', '1710048382879.jpg', '1710048600570.jpg', '1710048884611.jpg', '1710049249967.jpg', '1710049672550.jpg', '1710049803420.jpg', '1710050083980.jpg', '1710050484948.jpg', '1710050793700.jpg', '1710050898571.jpg', '1710051244745.jpg', '1710051336555.jpg', '1710051565002.jpg', '1710051904151.jpg', '1710052344015.jpg', '1710052455600.jpg', '1710052769756.jpg', '1710053208413.jpg', '1710053568030.jpg', '1710053742749.jpg', '1710054141484.jpg', '1710054571640.jpg', '1710054990617.jpg', '1710056094422.jpg', '1710056102324.jpg', '1710056524109.jpg', '1710056855151.jpg', '1710057167583.jpg', '1710057668770.jpg', '1710058169198.jpg', '1710058875574.jpg', '1710059290848.jpg', '1710059750574.jpg', '1710059893236.jpg', '1710060134155.jpg', '1710060443557.jpg', '1710060707595.jpg', '1710061256381.jpg', '1710061796751.jpg']\n"
     ]
    }
   ],
   "source": [
    "if os.path.exists(eye_mask_folder):\n",
    "    # Extract all image file names\n",
    "    image_names = [\n",
    "        file for file in os.listdir(eye_mask_folder)\n",
    "        if os.path.isfile(os.path.join(eye_mask_folder, file))\n",
    "    ]\n",
    "    print(\"Image Names:\", image_names)\n",
    "else:\n",
    "    print(f\"The folder '{eye_mask_folder}' does not exist.\")"
   ]
  },
  {
   "cell_type": "code",
   "execution_count": 14,
   "metadata": {},
   "outputs": [
    {
     "data": {
      "text/plain": [
       "list"
      ]
     },
     "execution_count": 14,
     "metadata": {},
     "output_type": "execute_result"
    }
   ],
   "source": [
    "type(image_names)"
   ]
  },
  {
   "cell_type": "code",
   "execution_count": 6,
   "metadata": {},
   "outputs": [
    {
     "data": {
      "text/html": [
       "<div>\n",
       "<style scoped>\n",
       "    .dataframe tbody tr th:only-of-type {\n",
       "        vertical-align: middle;\n",
       "    }\n",
       "\n",
       "    .dataframe tbody tr th {\n",
       "        vertical-align: top;\n",
       "    }\n",
       "\n",
       "    .dataframe thead th {\n",
       "        text-align: right;\n",
       "    }\n",
       "</style>\n",
       "<table border=\"1\" class=\"dataframe\">\n",
       "  <thead>\n",
       "    <tr style=\"text-align: right;\">\n",
       "      <th></th>\n",
       "      <th>1. Take a photo of Left eye</th>\n",
       "      <th>Blood Sample Id</th>\n",
       "      <th>Unnamed: 2</th>\n",
       "      <th>Unnamed: 3</th>\n",
       "      <th>Annotated_Data</th>\n",
       "      <th>Avaiable ID</th>\n",
       "      <th>Hb Value</th>\n",
       "    </tr>\n",
       "  </thead>\n",
       "  <tbody>\n",
       "    <tr>\n",
       "      <th>0</th>\n",
       "      <td>1709617490220.jpg</td>\n",
       "      <td>202403051</td>\n",
       "      <td>NaN</td>\n",
       "      <td>NaN</td>\n",
       "      <td>1709617490220.jpg</td>\n",
       "      <td>202403051.0</td>\n",
       "      <td>11.5</td>\n",
       "    </tr>\n",
       "    <tr>\n",
       "      <th>1</th>\n",
       "      <td>1709619661748.jpg</td>\n",
       "      <td>202403058</td>\n",
       "      <td>NaN</td>\n",
       "      <td>NaN</td>\n",
       "      <td>1709617782204.jpg</td>\n",
       "      <td>202403052.0</td>\n",
       "      <td>11.6</td>\n",
       "    </tr>\n",
       "    <tr>\n",
       "      <th>2</th>\n",
       "      <td>1709621461793.jpg</td>\n",
       "      <td>2024030512</td>\n",
       "      <td>NaN</td>\n",
       "      <td>NaN</td>\n",
       "      <td>1709618916134.jpg</td>\n",
       "      <td>202403056.0</td>\n",
       "      <td>11.1</td>\n",
       "    </tr>\n",
       "    <tr>\n",
       "      <th>3</th>\n",
       "      <td>1709624290874.jpg</td>\n",
       "      <td>2024030518</td>\n",
       "      <td>NaN</td>\n",
       "      <td>NaN</td>\n",
       "      <td>1709619661748.jpg</td>\n",
       "      <td>202403058.0</td>\n",
       "      <td>12.1</td>\n",
       "    </tr>\n",
       "    <tr>\n",
       "      <th>4</th>\n",
       "      <td>1709625767525.jpg</td>\n",
       "      <td>2024030522</td>\n",
       "      <td>NaN</td>\n",
       "      <td>NaN</td>\n",
       "      <td>1709620146694.jpg</td>\n",
       "      <td>202403059.0</td>\n",
       "      <td>12.2</td>\n",
       "    </tr>\n",
       "  </tbody>\n",
       "</table>\n",
       "</div>"
      ],
      "text/plain": [
       "  1. Take a photo of Left eye  Blood Sample Id  Unnamed: 2  Unnamed: 3  \\\n",
       "0           1709617490220.jpg        202403051         NaN         NaN   \n",
       "1           1709619661748.jpg        202403058         NaN         NaN   \n",
       "2           1709621461793.jpg       2024030512         NaN         NaN   \n",
       "3           1709624290874.jpg       2024030518         NaN         NaN   \n",
       "4           1709625767525.jpg       2024030522         NaN         NaN   \n",
       "\n",
       "      Annotated_Data  Avaiable ID  Hb Value  \n",
       "0  1709617490220.jpg  202403051.0      11.5  \n",
       "1  1709617782204.jpg  202403052.0      11.6  \n",
       "2  1709618916134.jpg  202403056.0      11.1  \n",
       "3  1709619661748.jpg  202403058.0      12.1  \n",
       "4  1709620146694.jpg  202403059.0      12.2  "
      ]
     },
     "execution_count": 6,
     "metadata": {},
     "output_type": "execute_result"
    }
   ],
   "source": [
    "df1 = pd.read_excel(\"../Dataset Used/Blood Report_without patient.xlsx\",sheet_name=\"left_eye\")\n",
    "df1.head()"
   ]
  },
  {
   "cell_type": "code",
   "execution_count": 7,
   "metadata": {},
   "outputs": [],
   "source": [
    "filtered_df = df1[df1['Annotated_Data'].isin(image_names)]\n"
   ]
  },
  {
   "cell_type": "code",
   "execution_count": 8,
   "metadata": {},
   "outputs": [
    {
     "data": {
      "text/html": [
       "<div>\n",
       "<style scoped>\n",
       "    .dataframe tbody tr th:only-of-type {\n",
       "        vertical-align: middle;\n",
       "    }\n",
       "\n",
       "    .dataframe tbody tr th {\n",
       "        vertical-align: top;\n",
       "    }\n",
       "\n",
       "    .dataframe thead th {\n",
       "        text-align: right;\n",
       "    }\n",
       "</style>\n",
       "<table border=\"1\" class=\"dataframe\">\n",
       "  <thead>\n",
       "    <tr style=\"text-align: right;\">\n",
       "      <th></th>\n",
       "      <th>1. Take a photo of Left eye</th>\n",
       "      <th>Blood Sample Id</th>\n",
       "      <th>Unnamed: 2</th>\n",
       "      <th>Unnamed: 3</th>\n",
       "      <th>Annotated_Data</th>\n",
       "      <th>Avaiable ID</th>\n",
       "      <th>Hb Value</th>\n",
       "    </tr>\n",
       "  </thead>\n",
       "  <tbody>\n",
       "    <tr>\n",
       "      <th>0</th>\n",
       "      <td>1709617490220.jpg</td>\n",
       "      <td>202403051</td>\n",
       "      <td>NaN</td>\n",
       "      <td>NaN</td>\n",
       "      <td>1709617490220.jpg</td>\n",
       "      <td>2.024031e+08</td>\n",
       "      <td>11.5</td>\n",
       "    </tr>\n",
       "    <tr>\n",
       "      <th>1</th>\n",
       "      <td>1709619661748.jpg</td>\n",
       "      <td>202403058</td>\n",
       "      <td>NaN</td>\n",
       "      <td>NaN</td>\n",
       "      <td>1709617782204.jpg</td>\n",
       "      <td>2.024031e+08</td>\n",
       "      <td>11.6</td>\n",
       "    </tr>\n",
       "    <tr>\n",
       "      <th>2</th>\n",
       "      <td>1709621461793.jpg</td>\n",
       "      <td>2024030512</td>\n",
       "      <td>NaN</td>\n",
       "      <td>NaN</td>\n",
       "      <td>1709618916134.jpg</td>\n",
       "      <td>2.024031e+08</td>\n",
       "      <td>11.1</td>\n",
       "    </tr>\n",
       "    <tr>\n",
       "      <th>3</th>\n",
       "      <td>1709624290874.jpg</td>\n",
       "      <td>2024030518</td>\n",
       "      <td>NaN</td>\n",
       "      <td>NaN</td>\n",
       "      <td>1709619661748.jpg</td>\n",
       "      <td>2.024031e+08</td>\n",
       "      <td>12.1</td>\n",
       "    </tr>\n",
       "    <tr>\n",
       "      <th>4</th>\n",
       "      <td>1709625767525.jpg</td>\n",
       "      <td>2024030522</td>\n",
       "      <td>NaN</td>\n",
       "      <td>NaN</td>\n",
       "      <td>1709620146694.jpg</td>\n",
       "      <td>2.024031e+08</td>\n",
       "      <td>12.2</td>\n",
       "    </tr>\n",
       "    <tr>\n",
       "      <th>...</th>\n",
       "      <td>...</td>\n",
       "      <td>...</td>\n",
       "      <td>...</td>\n",
       "      <td>...</td>\n",
       "      <td>...</td>\n",
       "      <td>...</td>\n",
       "      <td>...</td>\n",
       "    </tr>\n",
       "    <tr>\n",
       "      <th>399</th>\n",
       "      <td>1710061168367.jpg</td>\n",
       "      <td>2024031050</td>\n",
       "      <td>NaN</td>\n",
       "      <td>NaN</td>\n",
       "      <td>1710070755134.jpg</td>\n",
       "      <td>2.024031e+09</td>\n",
       "      <td>9.6</td>\n",
       "    </tr>\n",
       "    <tr>\n",
       "      <th>400</th>\n",
       "      <td>1710062617330.jpg</td>\n",
       "      <td>2024031053</td>\n",
       "      <td>NaN</td>\n",
       "      <td>NaN</td>\n",
       "      <td>1710071452062.jpg</td>\n",
       "      <td>2.024031e+09</td>\n",
       "      <td>11.9</td>\n",
       "    </tr>\n",
       "    <tr>\n",
       "      <th>401</th>\n",
       "      <td>1710063512010.jpg</td>\n",
       "      <td>2024031057</td>\n",
       "      <td>NaN</td>\n",
       "      <td>NaN</td>\n",
       "      <td>1710071755958.jpg</td>\n",
       "      <td>2.024031e+09</td>\n",
       "      <td>9.1</td>\n",
       "    </tr>\n",
       "    <tr>\n",
       "      <th>402</th>\n",
       "      <td>1710068440387.jpg</td>\n",
       "      <td>2024031061</td>\n",
       "      <td>NaN</td>\n",
       "      <td>NaN</td>\n",
       "      <td>1710072078629.jpg</td>\n",
       "      <td>2.024031e+09</td>\n",
       "      <td>13.9</td>\n",
       "    </tr>\n",
       "    <tr>\n",
       "      <th>403</th>\n",
       "      <td>1710069973175.jpg</td>\n",
       "      <td>2024031066</td>\n",
       "      <td>NaN</td>\n",
       "      <td>NaN</td>\n",
       "      <td>1710072405617.jpg</td>\n",
       "      <td>2.024031e+09</td>\n",
       "      <td>13.9</td>\n",
       "    </tr>\n",
       "  </tbody>\n",
       "</table>\n",
       "<p>404 rows × 7 columns</p>\n",
       "</div>"
      ],
      "text/plain": [
       "    1. Take a photo of Left eye  Blood Sample Id  Unnamed: 2  Unnamed: 3  \\\n",
       "0             1709617490220.jpg        202403051         NaN         NaN   \n",
       "1             1709619661748.jpg        202403058         NaN         NaN   \n",
       "2             1709621461793.jpg       2024030512         NaN         NaN   \n",
       "3             1709624290874.jpg       2024030518         NaN         NaN   \n",
       "4             1709625767525.jpg       2024030522         NaN         NaN   \n",
       "..                          ...              ...         ...         ...   \n",
       "399           1710061168367.jpg       2024031050         NaN         NaN   \n",
       "400           1710062617330.jpg       2024031053         NaN         NaN   \n",
       "401           1710063512010.jpg       2024031057         NaN         NaN   \n",
       "402           1710068440387.jpg       2024031061         NaN         NaN   \n",
       "403           1710069973175.jpg       2024031066         NaN         NaN   \n",
       "\n",
       "        Annotated_Data   Avaiable ID  Hb Value  \n",
       "0    1709617490220.jpg  2.024031e+08      11.5  \n",
       "1    1709617782204.jpg  2.024031e+08      11.6  \n",
       "2    1709618916134.jpg  2.024031e+08      11.1  \n",
       "3    1709619661748.jpg  2.024031e+08      12.1  \n",
       "4    1709620146694.jpg  2.024031e+08      12.2  \n",
       "..                 ...           ...       ...  \n",
       "399  1710070755134.jpg  2.024031e+09       9.6  \n",
       "400  1710071452062.jpg  2.024031e+09      11.9  \n",
       "401  1710071755958.jpg  2.024031e+09       9.1  \n",
       "402  1710072078629.jpg  2.024031e+09      13.9  \n",
       "403  1710072405617.jpg  2.024031e+09      13.9  \n",
       "\n",
       "[404 rows x 7 columns]"
      ]
     },
     "execution_count": 8,
     "metadata": {},
     "output_type": "execute_result"
    }
   ],
   "source": [
    "filtered_df"
   ]
  },
  {
   "cell_type": "code",
   "execution_count": 28,
   "metadata": {},
   "outputs": [],
   "source": [
    "filtered_columns_df = filtered_df[['Avaiable ID', 'Annotated_Data', 'Hb Value']]"
   ]
  },
  {
   "cell_type": "code",
   "execution_count": 29,
   "metadata": {},
   "outputs": [
    {
     "data": {
      "text/html": [
       "<div>\n",
       "<style scoped>\n",
       "    .dataframe tbody tr th:only-of-type {\n",
       "        vertical-align: middle;\n",
       "    }\n",
       "\n",
       "    .dataframe tbody tr th {\n",
       "        vertical-align: top;\n",
       "    }\n",
       "\n",
       "    .dataframe thead th {\n",
       "        text-align: right;\n",
       "    }\n",
       "</style>\n",
       "<table border=\"1\" class=\"dataframe\">\n",
       "  <thead>\n",
       "    <tr style=\"text-align: right;\">\n",
       "      <th></th>\n",
       "      <th>Avaiable ID</th>\n",
       "      <th>Annotated_Data</th>\n",
       "      <th>Hb Value</th>\n",
       "    </tr>\n",
       "  </thead>\n",
       "  <tbody>\n",
       "    <tr>\n",
       "      <th>0</th>\n",
       "      <td>202403051.0</td>\n",
       "      <td>1709617490220.jpg</td>\n",
       "      <td>11.5</td>\n",
       "    </tr>\n",
       "    <tr>\n",
       "      <th>1</th>\n",
       "      <td>202403052.0</td>\n",
       "      <td>1709617782204.jpg</td>\n",
       "      <td>11.6</td>\n",
       "    </tr>\n",
       "    <tr>\n",
       "      <th>2</th>\n",
       "      <td>202403056.0</td>\n",
       "      <td>1709618916134.jpg</td>\n",
       "      <td>11.1</td>\n",
       "    </tr>\n",
       "    <tr>\n",
       "      <th>3</th>\n",
       "      <td>202403058.0</td>\n",
       "      <td>1709619661748.jpg</td>\n",
       "      <td>12.1</td>\n",
       "    </tr>\n",
       "    <tr>\n",
       "      <th>4</th>\n",
       "      <td>202403059.0</td>\n",
       "      <td>1709620146694.jpg</td>\n",
       "      <td>12.2</td>\n",
       "    </tr>\n",
       "  </tbody>\n",
       "</table>\n",
       "</div>"
      ],
      "text/plain": [
       "   Avaiable ID     Annotated_Data  Hb Value\n",
       "0  202403051.0  1709617490220.jpg      11.5\n",
       "1  202403052.0  1709617782204.jpg      11.6\n",
       "2  202403056.0  1709618916134.jpg      11.1\n",
       "3  202403058.0  1709619661748.jpg      12.1\n",
       "4  202403059.0  1709620146694.jpg      12.2"
      ]
     },
     "execution_count": 29,
     "metadata": {},
     "output_type": "execute_result"
    }
   ],
   "source": [
    "filtered_columns_df.head()"
   ]
  },
  {
   "cell_type": "code",
   "execution_count": 30,
   "metadata": {},
   "outputs": [
    {
     "data": {
      "text/plain": [
       "(404, 3)"
      ]
     },
     "execution_count": 30,
     "metadata": {},
     "output_type": "execute_result"
    }
   ],
   "source": [
    "filtered_columns_df.shape"
   ]
  },
  {
   "cell_type": "code",
   "execution_count": 31,
   "metadata": {},
   "outputs": [],
   "source": [
    "df2 = pd.read_excel(\"../Dataset Used/Updated Healthworker Form Part 1_without patient identifier.xlsx\") "
   ]
  },
  {
   "cell_type": "code",
   "execution_count": 20,
   "metadata": {},
   "outputs": [
    {
     "data": {
      "text/plain": [
       "(426, 5)"
      ]
     },
     "execution_count": 20,
     "metadata": {},
     "output_type": "execute_result"
    }
   ],
   "source": [
    "df2_filtered = df2[['Blood Sample Id', \n",
    "                            '4. Patient Sex', \n",
    "                            '2. Enter age in completed years', \n",
    "                            '8. Height (in cm)', \n",
    "                            '9. Weight (in kg)']].rename(columns={'4. Patient Sex': 'Gender', '2. Enter age in completed years': 'Age','8. Height (in cm)':'Height', '9. Weight (in kg)':'Weight'})\n",
    "df2_filtered.shape"
   ]
  },
  {
   "cell_type": "code",
   "execution_count": 22,
   "metadata": {},
   "outputs": [
    {
     "data": {
      "text/plain": [
       "(416, 7)"
      ]
     },
     "execution_count": 22,
     "metadata": {},
     "output_type": "execute_result"
    }
   ],
   "source": [
    "merged_df = filtered_columns_df.merge(df2_filtered, on='Blood Sample Id', how='inner')\n",
    "merged_df.shape"
   ]
  },
  {
   "cell_type": "code",
   "execution_count": 23,
   "metadata": {},
   "outputs": [
    {
     "data": {
      "text/plain": [
       "(404, 3)"
      ]
     },
     "execution_count": 23,
     "metadata": {},
     "output_type": "execute_result"
    }
   ],
   "source": [
    "filtered_columns_df.shape"
   ]
  },
  {
   "cell_type": "code",
   "execution_count": 25,
   "metadata": {},
   "outputs": [
    {
     "data": {
      "text/plain": [
       "(426, 5)"
      ]
     },
     "execution_count": 25,
     "metadata": {},
     "output_type": "execute_result"
    }
   ],
   "source": [
    "df2_filtered.shape"
   ]
  },
  {
   "cell_type": "code",
   "execution_count": 26,
   "metadata": {},
   "outputs": [
    {
     "name": "stdout",
     "output_type": "stream",
     "text": [
      "Duplicates in filtered_columns_df:\n",
      "6\n",
      "Duplicates in df2_filtered:\n",
      "6\n"
     ]
    }
   ],
   "source": [
    "print(\"Duplicates in filtered_columns_df:\")\n",
    "print(filtered_columns_df['Blood Sample Id'].duplicated().sum())\n",
    "\n",
    "print(\"Duplicates in df2_filtered:\")\n",
    "print(df2_filtered['Blood Sample Id'].duplicated().sum())\n"
   ]
  },
  {
   "cell_type": "code",
   "execution_count": 27,
   "metadata": {},
   "outputs": [
    {
     "name": "stdout",
     "output_type": "stream",
     "text": [
      "Duplicate rows in filtered_columns_df:\n",
      "     Blood Sample Id     Annotated_Data  Hb Value\n",
      "64        2024030643  1709703440550.jpg      14.8\n",
      "83        2024030643  1709709970921.jpg       9.3\n",
      "101       2024030681  1709715028843.jpg      11.2\n",
      "122       2024030641  1709724896732.jpg       9.0\n",
      "123       2024030641  1709725187979.jpg      10.5\n",
      "132       2024030681  1709789179906.jpg       9.9\n",
      "164       2024030750  1709796430460.jpg      12.5\n",
      "183       2024030750  1709800733671.jpg      11.1\n",
      "253       2024030844  1709885776309.jpg      12.4\n",
      "273       2024030844  1709964363419.jpg      10.5\n",
      "362       2024031055  1710053568030.jpg      12.1\n",
      "381       2024031055  1710061796751.jpg      12.7\n",
      "Duplicate rows in df2_filtered:\n",
      "     Blood Sample Id  Gender  Age  Height  Weight\n",
      "64        2024030643    Male   54   164.0    57.0\n",
      "83        2024030643  Female   68   148.0    50.0\n",
      "101       2024030681    Male   50   163.0    45.0\n",
      "122       2024030641  Female   66   146.0    40.0\n",
      "123       2024030641    Male   35   168.0    70.0\n",
      "132       2024030681    Male   57   166.0    56.0\n",
      "164       2024030750  Female   36   150.0    49.0\n",
      "183       2024030750  Female   61   154.0    40.0\n",
      "253       2024030844  Female   55   146.0    35.0\n",
      "273       2024030844  Female   27   151.0    36.0\n",
      "362       2024031055  Female   51   142.0    30.0\n",
      "381       2024031055  Female   85   138.0    22.0\n"
     ]
    }
   ],
   "source": [
    "# For filtered_columns_df\n",
    "duplicates_filtered = filtered_columns_df[filtered_columns_df['Blood Sample Id'].duplicated(keep=False)]\n",
    "print(\"Duplicate rows in filtered_columns_df:\")\n",
    "print(duplicates_filtered)\n",
    "\n",
    "# For df2_filtered\n",
    "duplicates_df2 = df2_filtered[df2_filtered['Blood Sample Id'].duplicated(keep=False)]\n",
    "print(\"Duplicate rows in df2_filtered:\")\n",
    "print(duplicates_df2)\n"
   ]
  },
  {
   "cell_type": "code",
   "execution_count": 32,
   "metadata": {},
   "outputs": [
    {
     "name": "stdout",
     "output_type": "stream",
     "text": [
      "Duplicates in filtered_columns_df:\n",
      "6\n"
     ]
    }
   ],
   "source": [
    "print(\"Duplicates in filtered_columns_df:\")\n",
    "print(filtered_columns_df['Avaiable ID'].duplicated().sum())"
   ]
  },
  {
   "cell_type": "code",
   "execution_count": 33,
   "metadata": {},
   "outputs": [
    {
     "name": "stdout",
     "output_type": "stream",
     "text": [
      "Duplicate rows in filtered_columns_df:\n",
      "      Avaiable ID     Annotated_Data  Hb Value\n",
      "90   2.024031e+09  1709712138693.jpg      14.1\n",
      "92   2.024031e+09  1709712668361.jpg      10.2\n",
      "93   2.024031e+09  1709712754717.jpg      14.1\n",
      "96   2.024031e+09  1709713709275.jpg      10.2\n",
      "128  2.024031e+09  1709726505652.jpg      13.9\n",
      "129  2.024031e+09  1709726773680.jpg      13.9\n",
      "176  2.024031e+09  1709799082552.jpg       8.9\n",
      "180  2.024031e+09  1709799981476.jpg       8.9\n",
      "246  2.024031e+09  1709883543818.jpg      10.4\n",
      "247  2.024031e+09  1709884034856.jpg      10.4\n",
      "380  2.024031e+09  1710061256381.jpg       8.4\n",
      "382  2.024031e+09  1710061832400.jpg       8.4\n"
     ]
    }
   ],
   "source": [
    "duplicates_filtered = filtered_columns_df[filtered_columns_df['Avaiable ID'].duplicated(keep=False)]\n",
    "print(\"Duplicate rows in filtered_columns_df:\")\n",
    "print(duplicates_filtered)"
   ]
  },
  {
   "cell_type": "code",
   "execution_count": null,
   "metadata": {},
   "outputs": [],
   "source": []
  }
 ],
 "metadata": {
  "kernelspec": {
   "display_name": "tensor",
   "language": "python",
   "name": "python3"
  },
  "language_info": {
   "codemirror_mode": {
    "name": "ipython",
    "version": 3
   },
   "file_extension": ".py",
   "mimetype": "text/x-python",
   "name": "python",
   "nbconvert_exporter": "python",
   "pygments_lexer": "ipython3",
   "version": "3.11.7"
  }
 },
 "nbformat": 4,
 "nbformat_minor": 2
}
