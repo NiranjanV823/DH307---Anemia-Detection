{
 "cells": [
  {
   "cell_type": "code",
   "execution_count": 13,
   "metadata": {},
   "outputs": [],
   "source": [
    "import pandas as pd\n",
    "from sklearn.model_selection import train_test_split\n",
    "from mrmr import mrmr_classif, mrmr_regression\n",
    "from sklearn.preprocessing import StandardScaler\n"
   ]
  },
  {
   "cell_type": "code",
   "execution_count": 2,
   "metadata": {},
   "outputs": [],
   "source": [
    "df = pd.read_excel('Eye_Features.xlsx')"
   ]
  },
  {
   "cell_type": "code",
   "execution_count": 14,
   "metadata": {},
   "outputs": [],
   "source": [
    "# Select columns to scale (excluding Gender)\n",
    "feature_cols_to_scale = ['Age', 'Height', 'Weight', 'Mean_Red', 'Mean_Green', 'Mean_Blue', \n",
    "                         'Mean_R-G', 'Erythema_Index', 'Mean_Hue', 'Mean_Saturation', 'Mean_Value', \n",
    "                         'High_Hue_Ratio', 'Brightness', 'Entropy', 'Mean_L', 'Mean_A', 'Mean_B', \n",
    "                         'Mean_G1', 'Mean_G2', 'Mean_G3', 'Mean_G4', 'Mean_G5']\n",
    "target_col = 'Hb Value'  "
   ]
  },
  {
   "cell_type": "code",
   "execution_count": 15,
   "metadata": {},
   "outputs": [],
   "source": [
    "X = df[feature_cols_to_scale]\n",
    "Y = df[target_col]"
   ]
  },
  {
   "cell_type": "code",
   "execution_count": 16,
   "metadata": {},
   "outputs": [],
   "source": [
    "scaler = StandardScaler()\n",
    "X_scaled = scaler.fit_transform(X)\n",
    "X = pd.DataFrame(X_scaled, columns=feature_cols_to_scale)\n",
    "X['Gender'] = df['Gender']"
   ]
  },
  {
   "cell_type": "code",
   "execution_count": 17,
   "metadata": {},
   "outputs": [],
   "source": [
    "feature_cols = ['Age', 'Height', 'Weight', 'Mean_Red', 'Mean_Green', 'Mean_Blue', \n",
    "                'Mean_R-G', 'Erythema_Index', 'Mean_Hue', 'Mean_Saturation', 'Mean_Value', \n",
    "                'High_Hue_Ratio', 'Brightness', 'Entropy', 'Mean_L', 'Mean_A', 'Mean_B', \n",
    "                'Mean_G1', 'Mean_G2', 'Mean_G3', 'Mean_G4', 'Mean_G5', 'Gender']\n",
    "target_col = 'Hb Value'  "
   ]
  },
  {
   "cell_type": "code",
   "execution_count": 18,
   "metadata": {},
   "outputs": [],
   "source": [
    "X = df[feature_cols]\n",
    "y = df[target_col]"
   ]
  },
  {
   "cell_type": "code",
   "execution_count": 19,
   "metadata": {},
   "outputs": [],
   "source": [
    "X_train, X_test, y_train, y_test = train_test_split(X, y, test_size=0.2, random_state=42)"
   ]
  },
  {
   "cell_type": "code",
   "execution_count": 21,
   "metadata": {},
   "outputs": [
    {
     "name": "stderr",
     "output_type": "stream",
     "text": [
      "100%|██████████| 10/10 [00:00<00:00, 12.36it/s]\n"
     ]
    },
    {
     "data": {
      "text/plain": [
       "['Gender',\n",
       " 'High_Hue_Ratio',\n",
       " 'Height',\n",
       " 'Erythema_Index',\n",
       " 'Weight',\n",
       " 'Age',\n",
       " 'Mean_Hue',\n",
       " 'Mean_Green',\n",
       " 'Mean_A',\n",
       " 'Mean_Saturation']"
      ]
     },
     "execution_count": 21,
     "metadata": {},
     "output_type": "execute_result"
    }
   ],
   "source": [
    "selected_features = mrmr_regression(X_train, y_train, K=10)\n",
    "selected_features"
   ]
  },
  {
   "cell_type": "code",
   "execution_count": 22,
   "metadata": {},
   "outputs": [],
   "source": [
    "X = df[selected_features]"
   ]
  },
  {
   "cell_type": "code",
   "execution_count": 23,
   "metadata": {},
   "outputs": [],
   "source": [
    "X_train, X_test, y_train, y_test = train_test_split(X, y, test_size=0.2, random_state=42)"
   ]
  },
  {
   "cell_type": "code",
   "execution_count": 35,
   "metadata": {},
   "outputs": [],
   "source": [
    "from sklearn.metrics import mean_absolute_error, mean_squared_error, r2_score\n",
    "from sklearn.linear_model import LinearRegression, Ridge, Lasso, ElasticNet\n",
    "from sklearn.svm import SVR\n",
    "from sklearn.ensemble import RandomForestRegressor, GradientBoostingRegressor\n",
    "from sklearn.tree import DecisionTreeRegressor\n",
    "from sklearn.neighbors import KNeighborsRegressor\n",
    "from sklearn.neural_network import MLPRegressor\n",
    "from sklearn.preprocessing import PolynomialFeatures\n",
    "from sklearn.pipeline import make_pipeline\n",
    "from xgboost import XGBRegressor\n"
   ]
  },
  {
   "cell_type": "code",
   "execution_count": 38,
   "metadata": {},
   "outputs": [],
   "source": [
    "models = {\n",
    "    \"Linear Regression\": LinearRegression(),\n",
    "    \"Ridge Regression\": Ridge(),\n",
    "    \"Lasso Regression\": Lasso(),\n",
    "    \"ElasticNet\": ElasticNet(),\n",
    "    \"Polynomial Regression (Degree=2)\": make_pipeline(PolynomialFeatures(degree=2), LinearRegression()),\n",
    "    \"Support Vector Regressor\": SVR(),\n",
    "    \"Decision Tree\": DecisionTreeRegressor(),\n",
    "    \"Random Forest\": RandomForestRegressor(n_estimators=100, random_state=42),\n",
    "    \"Gradient Boosting\": GradientBoostingRegressor(n_estimators=100, random_state=42),\n",
    "    \"XGBoost Regressor\": XGBRegressor(n_estimators=100, random_state=42),\n",
    "    \"KNN Regressor\": KNeighborsRegressor(),\n",
    "    \"Neural Network\": MLPRegressor(hidden_layer_sizes=(100,), max_iter=1000, random_state=42),\n",
    "\n",
    "}\n",
    "\n",
    "results = []\n",
    "for name, model in models.items():\n",
    "    model.fit(X_train, y_train)  \n",
    "    y_pred = model.predict(X_test)  \n",
    "    \n",
    "    mae = mean_absolute_error(y_test, y_pred)\n",
    "    mse = mean_squared_error(y_test, y_pred)\n",
    "    r2 = r2_score(y_test, y_pred)\n",
    "    \n",
    "    results.append({\"Model\": name, \"MAE\": mae, \"MSE\": mse, \"R2 Score\": r2})\n",
    "\n",
    "results_df = pd.DataFrame(results).sort_values(by=\"MAE\", ascending=True)\n"
   ]
  },
  {
   "cell_type": "code",
   "execution_count": 39,
   "metadata": {},
   "outputs": [
    {
     "data": {
      "text/html": [
       "<div>\n",
       "<style scoped>\n",
       "    .dataframe tbody tr th:only-of-type {\n",
       "        vertical-align: middle;\n",
       "    }\n",
       "\n",
       "    .dataframe tbody tr th {\n",
       "        vertical-align: top;\n",
       "    }\n",
       "\n",
       "    .dataframe thead th {\n",
       "        text-align: right;\n",
       "    }\n",
       "</style>\n",
       "<table border=\"1\" class=\"dataframe\">\n",
       "  <thead>\n",
       "    <tr style=\"text-align: right;\">\n",
       "      <th></th>\n",
       "      <th>Model</th>\n",
       "      <th>MAE</th>\n",
       "      <th>MSE</th>\n",
       "      <th>R2 Score</th>\n",
       "    </tr>\n",
       "  </thead>\n",
       "  <tbody>\n",
       "    <tr>\n",
       "      <th>0</th>\n",
       "      <td>Linear Regression</td>\n",
       "      <td>1.108915</td>\n",
       "      <td>2.095872</td>\n",
       "      <td>0.384706</td>\n",
       "    </tr>\n",
       "    <tr>\n",
       "      <th>1</th>\n",
       "      <td>Ridge Regression</td>\n",
       "      <td>1.114775</td>\n",
       "      <td>2.111338</td>\n",
       "      <td>0.380166</td>\n",
       "    </tr>\n",
       "    <tr>\n",
       "      <th>7</th>\n",
       "      <td>Random Forest</td>\n",
       "      <td>1.250753</td>\n",
       "      <td>2.440041</td>\n",
       "      <td>0.283667</td>\n",
       "    </tr>\n",
       "    <tr>\n",
       "      <th>11</th>\n",
       "      <td>Neural Network</td>\n",
       "      <td>1.255255</td>\n",
       "      <td>2.942724</td>\n",
       "      <td>0.136092</td>\n",
       "    </tr>\n",
       "    <tr>\n",
       "      <th>4</th>\n",
       "      <td>Polynomial Regression (Degree=2)</td>\n",
       "      <td>1.265584</td>\n",
       "      <td>2.583902</td>\n",
       "      <td>0.241433</td>\n",
       "    </tr>\n",
       "    <tr>\n",
       "      <th>3</th>\n",
       "      <td>ElasticNet</td>\n",
       "      <td>1.278361</td>\n",
       "      <td>2.526151</td>\n",
       "      <td>0.258388</td>\n",
       "    </tr>\n",
       "    <tr>\n",
       "      <th>8</th>\n",
       "      <td>Gradient Boosting</td>\n",
       "      <td>1.307162</td>\n",
       "      <td>2.589840</td>\n",
       "      <td>0.239690</td>\n",
       "    </tr>\n",
       "    <tr>\n",
       "      <th>2</th>\n",
       "      <td>Lasso Regression</td>\n",
       "      <td>1.310444</td>\n",
       "      <td>2.592338</td>\n",
       "      <td>0.238957</td>\n",
       "    </tr>\n",
       "    <tr>\n",
       "      <th>5</th>\n",
       "      <td>Support Vector Regressor</td>\n",
       "      <td>1.366580</td>\n",
       "      <td>2.849869</td>\n",
       "      <td>0.163352</td>\n",
       "    </tr>\n",
       "    <tr>\n",
       "      <th>9</th>\n",
       "      <td>XGBoost Regressor</td>\n",
       "      <td>1.372425</td>\n",
       "      <td>2.843260</td>\n",
       "      <td>0.165292</td>\n",
       "    </tr>\n",
       "    <tr>\n",
       "      <th>10</th>\n",
       "      <td>KNN Regressor</td>\n",
       "      <td>1.466173</td>\n",
       "      <td>3.341906</td>\n",
       "      <td>0.018903</td>\n",
       "    </tr>\n",
       "    <tr>\n",
       "      <th>6</th>\n",
       "      <td>Decision Tree</td>\n",
       "      <td>1.760494</td>\n",
       "      <td>5.003457</td>\n",
       "      <td>-0.468885</td>\n",
       "    </tr>\n",
       "  </tbody>\n",
       "</table>\n",
       "</div>"
      ],
      "text/plain": [
       "                               Model       MAE       MSE  R2 Score\n",
       "0                  Linear Regression  1.108915  2.095872  0.384706\n",
       "1                   Ridge Regression  1.114775  2.111338  0.380166\n",
       "7                      Random Forest  1.250753  2.440041  0.283667\n",
       "11                    Neural Network  1.255255  2.942724  0.136092\n",
       "4   Polynomial Regression (Degree=2)  1.265584  2.583902  0.241433\n",
       "3                         ElasticNet  1.278361  2.526151  0.258388\n",
       "8                  Gradient Boosting  1.307162  2.589840  0.239690\n",
       "2                   Lasso Regression  1.310444  2.592338  0.238957\n",
       "5           Support Vector Regressor  1.366580  2.849869  0.163352\n",
       "9                  XGBoost Regressor  1.372425  2.843260  0.165292\n",
       "10                     KNN Regressor  1.466173  3.341906  0.018903\n",
       "6                      Decision Tree  1.760494  5.003457 -0.468885"
      ]
     },
     "execution_count": 39,
     "metadata": {},
     "output_type": "execute_result"
    }
   ],
   "source": [
    "results_df"
   ]
  }
 ],
 "metadata": {
  "kernelspec": {
   "display_name": "tensor",
   "language": "python",
   "name": "python3"
  },
  "language_info": {
   "codemirror_mode": {
    "name": "ipython",
    "version": 3
   },
   "file_extension": ".py",
   "mimetype": "text/x-python",
   "name": "python",
   "nbconvert_exporter": "python",
   "pygments_lexer": "ipython3",
   "version": "3.11.7"
  }
 },
 "nbformat": 4,
 "nbformat_minor": 2
}
